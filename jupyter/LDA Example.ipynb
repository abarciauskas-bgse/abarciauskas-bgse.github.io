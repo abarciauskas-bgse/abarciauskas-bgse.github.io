{
 "cells": [
  {
   "cell_type": "markdown",
   "metadata": {},
   "source": [
    "## Step 1: Download and prepare data"
   ]
  },
  {
   "cell_type": "code",
   "execution_count": 30,
   "metadata": {},
   "outputs": [
    {
     "name": "stdout",
     "output_type": "stream",
     "text": [
      "Number of docments: 1183\n"
     ]
    }
   ],
   "source": [
    "from sklearn.datasets import fetch_20newsgroups\n",
    "from sklearn.feature_extraction.text import CountVectorizer\n",
    "import numpy as np\n",
    "\n",
    "# categories = ['alt.atheism', 'soc.religion.christian', 'comp.graphics', 'sci.med']\n",
    "categories = ['soc.religion.christian', 'comp.graphics']\n",
    "twenty_train = fetch_20newsgroups(\n",
    "  subset='train', \n",
    "  categories=categories,\n",
    "  shuffle=True,\n",
    "  random_state=42)\n",
    "\n",
    "document_set = twenty_train.data\n",
    "print('Number of docments: ' + str(len(document_set)))"
   ]
  },
  {
   "cell_type": "markdown",
   "metadata": {},
   "source": [
    "Remove proper nouns and numbers"
   ]
  },
  {
   "cell_type": "code",
   "execution_count": 31,
   "metadata": {},
   "outputs": [],
   "source": [
    "from nltk.tag import pos_tag\n",
    "import re\n",
    "\n",
    "edited_set = []\n",
    "for document in document_set:\n",
    "    document_no_numbers = re.sub(\"\\d+\", \" \", document)\n",
    "    tagged_document = pos_tag(document_no_numbers.split())\n",
    "    edited_document = [word for word, tag in tagged_document if tag != 'NNP' and tag != 'NNPS']\n",
    "    edited_set.append(' '.join(edited_document))"
   ]
  },
  {
   "cell_type": "markdown",
   "metadata": {},
   "source": [
    "Generate a bag of words (count vectorizer) to get the vocabulary set"
   ]
  },
  {
   "cell_type": "code",
   "execution_count": 44,
   "metadata": {},
   "outputs": [
    {
     "data": {
      "text/plain": [
       "(1183, 1000)"
      ]
     },
     "execution_count": 44,
     "metadata": {},
     "output_type": "execute_result"
    }
   ],
   "source": [
    "count_vect = CountVectorizer(max_df=0.95, min_df=2, max_features=1000, stop_words='english')\n",
    "# count_vect = CountVectorizer(stop_words='english')\n",
    "bag_of_words = count_vect.fit_transform(edited_set) # D x W\n",
    "vocabulary = count_vect.vocabulary_ # W words to indices\n",
    "bag_of_words.shape"
   ]
  },
  {
   "cell_type": "markdown",
   "metadata": {},
   "source": [
    "## Step 2: Initialization\n",
    "\n",
    "We know the true number of topics (`k`) should be 2."
   ]
  },
  {
   "cell_type": "code",
   "execution_count": 86,
   "metadata": {},
   "outputs": [],
   "source": [
    "k = 2\n",
    "alpha = 1\n",
    "eta = 0.001"
   ]
  },
  {
   "cell_type": "markdown",
   "metadata": {},
   "source": [
    "Generate list of lists of vocabulary indices for tokens in each document"
   ]
  },
  {
   "cell_type": "code",
   "execution_count": 87,
   "metadata": {},
   "outputs": [],
   "source": [
    "tokenizer = count_vect.build_tokenizer()\n",
    "\n",
    "# generate list of lists of vocabulary indices for tokens in each document\n",
    "document_vocabulary_indices = []\n",
    "for document in edited_set:\n",
    "    vocabulary_indices_for_document = []\n",
    "    tokens = tokenizer(document)\n",
    "    for token in tokens:\n",
    "        if token.lower() in vocabulary.keys():\n",
    "            vocabulary_indices_for_document.append(vocabulary[token.lower()])\n",
    "    document_vocabulary_indices.append(vocabulary_indices_for_document)"
   ]
  },
  {
   "cell_type": "markdown",
   "metadata": {},
   "source": [
    "Generate `topic_assignments`: A D-length array with variable-length inner arrays. Each inner array is a list of integers representing the token's topic assignment."
   ]
  },
  {
   "cell_type": "code",
   "execution_count": 88,
   "metadata": {},
   "outputs": [],
   "source": [
    "topic_assignments = []\n",
    "for document in document_vocabulary_indices:\n",
    "    topic_assignments_for_document = []\n",
    "    for token in document:\n",
    "        draws = np.random.multinomial(1, [1/k]*k)\n",
    "        assignment = np.argwhere(draws==1)[0][0]\n",
    "        topic_assignments_for_document.append(assignment)\n",
    "    topic_assignments.append(topic_assignments_for_document)"
   ]
  },
  {
   "cell_type": "markdown",
   "metadata": {},
   "source": [
    "Generate `document_topic_counts`: A D x K matrix having counts of tokens assigned to topic k for document d."
   ]
  },
  {
   "cell_type": "code",
   "execution_count": 89,
   "metadata": {},
   "outputs": [],
   "source": [
    "document_topic_counts = np.zeros((len(edited_set), k))\n",
    "\n",
    "# for every d document count number of times k shows up\n",
    "for d_index in range(document_topic_counts.shape[0]):\n",
    "    document_topic_assignments = topic_assignments[d_index]\n",
    "    for k_index in range(document_topic_counts.shape[1]):\n",
    "        topic_count = sum(1 for i in topic_assignments[d_index] if i == k_index)\n",
    "        document_topic_counts[d_index, k_index] = topic_count"
   ]
  },
  {
   "cell_type": "markdown",
   "metadata": {},
   "source": [
    "Generate `word_topic_counts`: A W x K matrix having count that token w appears in topic k."
   ]
  },
  {
   "cell_type": "code",
   "execution_count": 90,
   "metadata": {},
   "outputs": [],
   "source": [
    "word_topic_counts = np.zeros((len(vocabulary.keys()), k))\n",
    "\n",
    "# for every word's topic assignment, find the token's vocabulary index\n",
    "# and increment `word_topic_counts[token_index, k]`\n",
    "for doc_index, document in enumerate(topic_assignments):\n",
    "    for word_document_index, word_topic_assignment in enumerate(document):\n",
    "        word_vocabulary_index = document_vocabulary_indices[doc_index][word_document_index]\n",
    "        word_topic_counts[word_vocabulary_index, word_topic_assignment] += 1"
   ]
  },
  {
   "cell_type": "markdown",
   "metadata": {},
   "source": [
    "## Step 3: Update loop"
   ]
  },
  {
   "cell_type": "code",
   "execution_count": 94,
   "metadata": {},
   "outputs": [],
   "source": [
    "# dumb sanity check: for every iteration, the average probability should be increasing\n",
    "iter_probs_averages = []\n",
    "\n",
    "for i in range(10):\n",
    "    iter_probs = []\n",
    "    for doc_index, d in enumerate(document_vocabulary_indices):\n",
    "        for word_document_index, word_vocab_index in enumerate(d):\n",
    "            current_topic_assignment = topic_assignments[doc_index][word_document_index]\n",
    "            document_topic_counts[doc_index, current_topic_assignment] -= 1\n",
    "            word_topic_counts[word_vocab_index, current_topic_assignment] -= 1\n",
    "            document_token_count = len(d) + k*alpha # denom_a\n",
    "            # p(topic t | document d): proportion of words in document d that are assigned to topic t\n",
    "            document_topic_proportions = (document_topic_counts[doc_index,] + alpha)/document_token_count\n",
    "            # p(word w| topic t): proportion of assignments to topic t, over all documents d, that come from word w\n",
    "            topic_tokens_count = np.sum(word_topic_counts, 0) + len(vocabulary.keys()) * eta # denom_b\n",
    "            word_topic_porportions = (word_topic_counts[word_vocab_index,] + eta) / topic_tokens_count\n",
    "            p_z = document_topic_proportions*word_topic_porportions\n",
    "            new_probs = p_z/np.sum(p_z)\n",
    "            iter_probs.append(np.max(new_probs))\n",
    "            draws = np.random.multinomial(1, new_probs)\n",
    "            try:\n",
    "                new_assignment = np.argwhere(draws==1)[0][0]\n",
    "            except IndexError:\n",
    "                print('Got index error for b: ' + str(b))                \n",
    "            topic_assignments[doc_index][word_document_index] = new_assignment\n",
    "            document_topic_counts[doc_index, new_assignment] += 1\n",
    "            word_topic_counts[word_vocab_index, new_assignment] += 1\n",
    "    iter_probs_averages.append(np.average(iter_probs))"
   ]
  },
  {
   "cell_type": "code",
   "execution_count": 95,
   "metadata": {},
   "outputs": [
    {
     "data": {
      "image/png": "[encoded data removed]",
      "text/plain": [
       "<matplotlib.figure.Figure at 0x1122bb0b8>"
      ]
     },
     "metadata": {},
     "output_type": "display_data"
    }
   ],
   "source": [
    "import matplotlib.pyplot as plt\n",
    "%matplotlib inline \n",
    "\n",
    "plt.plot(iter_probs_averages)\n",
    "plt.ylabel('Average max probability')\n",
    "plt.xlabel('Iteration')\n",
    "plt.show()"
   ]
  },
  {
   "cell_type": "code",
   "execution_count": 96,
   "metadata": {},
   "outputs": [
    {
     "name": "stdout",
     "output_type": "stream",
     "text": [
      "people\n",
      "edu\n",
      "think\n",
      "does\n",
      "believe\n",
      "writes\n",
      "don\n",
      "know\n",
      "say\n",
      "just\n",
      "\n",
      "edu\n",
      "image\n",
      "graphics\n",
      "com\n",
      "use\n",
      "file\n",
      "files\n",
      "like\n",
      "images\n",
      "bit\n",
      "\n"
     ]
    }
   ],
   "source": [
    "inv_vocab = {v: k for k, v in vocabulary.items()}\n",
    "\n",
    "# number of times word appears in topic k / number of words in topic k\n",
    "number_of_words_in_topics = np.sum(word_topic_counts, 0)\n",
    "phi = np.divide(word_topic_counts, number_of_words_in_topics)\n",
    "\n",
    "# iterate through k topics and find words which have highest probability\n",
    "for i in range(k):\n",
    "    vocab_topic = np.argsort(-phi[:,i])[0:10]\n",
    "    for vocab_idx in vocab_topic:\n",
    "        print(inv_vocab[vocab_idx])\n",
    "    print('')"
   ]
  }
 ],
 "metadata": {
  "kernelspec": {
   "display_name": "Python 3",
   "language": "python",
   "name": "python3"
  },
  "language_info": {
   "codemirror_mode": {
    "name": "ipython",
    "version": 3
   },
   "file_extension": ".py",
   "mimetype": "text/x-python",
   "name": "python",
   "nbconvert_exporter": "python",
   "pygments_lexer": "ipython3",
   "version": "3.6.3"
  }
 },
 "nbformat": 4,
 "nbformat_minor": 2
}
