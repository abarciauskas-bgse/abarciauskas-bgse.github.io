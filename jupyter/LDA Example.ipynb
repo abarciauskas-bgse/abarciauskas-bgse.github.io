{
 "cells": [
  {
   "cell_type": "code",
   "execution_count": 214,
   "metadata": {},
   "outputs": [],
   "source": [
    "from sklearn.datasets import fetch_20newsgroups\n",
    "from sklearn.feature_extraction.text import CountVectorizer\n",
    "import numpy as np\n",
    "\n",
    "k = 4 # we know it's 4\n",
    "alpha = 1\n",
    "eta = 0.001\n",
    "\n",
    "categories = ['alt.atheism', 'soc.religion.christian', 'comp.graphics', 'sci.med']\n",
    "twenty_train = fetch_20newsgroups(\n",
    "  subset='train', \n",
    "  categories=categories,\n",
    "  shuffle=True,\n",
    "  random_state=42)\n",
    "\n",
    "document_set = twenty_train.data[0:500]"
   ]
  },
  {
   "cell_type": "code",
   "execution_count": 215,
   "metadata": {},
   "outputs": [],
   "source": [
    "from nltk.tag import pos_tag\n",
    "import re\n",
    "\n",
    "edited_set = []\n",
    "for document in document_set:\n",
    "    document_no_numbers = re.sub(\"\\d+\", \" \", document)\n",
    "    tagged_document = pos_tag(document_no_numbers.split())\n",
    "    edited_document = [word for word, tag in tagged_document if tag != 'NNP' and tag != 'NNPS']\n",
    "    edited_set.append(' '.join(edited_document))"
   ]
  },
  {
   "cell_type": "code",
   "execution_count": 216,
   "metadata": {},
   "outputs": [],
   "source": [
    "count_vect = CountVectorizer(stop_words='english')\n",
    "bag_of_words = count_vect.fit_transform(edited_set) # D x W\n",
    "vocabulary = count_vect.vocabulary_ # W words to indices"
   ]
  },
  {
   "cell_type": "markdown",
   "metadata": {},
   "source": [
    "Generate list of lists of vocabulary indices for tokens in each document"
   ]
  },
  {
   "cell_type": "code",
   "execution_count": 217,
   "metadata": {},
   "outputs": [],
   "source": [
    "tokenizer = count_vect.build_tokenizer()\n",
    "\n",
    "# generate list of lists of vocabulary indices for tokens in each document\n",
    "document_vocabulary_indices = []\n",
    "for document in edited_set:\n",
    "    vocabulary_indices_for_document = []\n",
    "    tokens = tokenizer(document)\n",
    "    for token in tokens:\n",
    "        if token.lower() in vocabulary.keys():\n",
    "            vocabulary_indices_for_document.append(vocabulary[token.lower()])\n",
    "    document_vocabulary_indices.append(vocabulary_indices_for_document)"
   ]
  },
  {
   "cell_type": "markdown",
   "metadata": {},
   "source": [
    "Generate `topic_assignments`: A D-length array with variable-length inner arrays. Each inner array is a list of integers representing the token's topic assignment."
   ]
  },
  {
   "cell_type": "code",
   "execution_count": 218,
   "metadata": {},
   "outputs": [],
   "source": [
    "topic_assignments = []\n",
    "for document in document_vocabulary_indices:\n",
    "    topic_assignments_for_document = []\n",
    "    for token in document:\n",
    "        draws = np.random.multinomial(1, [1/k]*k)\n",
    "        assignment = np.argwhere(draws==1)[0][0]\n",
    "        topic_assignments_for_document.append(assignment)\n",
    "    topic_assignments.append(topic_assignments_for_document)"
   ]
  },
  {
   "cell_type": "markdown",
   "metadata": {},
   "source": [
    "Generate `document_topic_counts`: A D x K matrix having counts of tokens assigned to topic k for document d."
   ]
  },
  {
   "cell_type": "code",
   "execution_count": 219,
   "metadata": {},
   "outputs": [],
   "source": [
    "document_topic_counts = np.zeros((len(edited_set), k))\n",
    "\n",
    "# for every d document count number of times k shows up\n",
    "for d_index in range(document_topic_counts.shape[0]):\n",
    "    document_topic_assignments = topic_assignments[d_index]\n",
    "    for k_index in range(document_topic_counts.shape[1]):\n",
    "        topic_count = sum(1 for i in topic_assignments[d_index] if i == k_index)\n",
    "        document_topic_counts[d_index, k_index] = topic_count"
   ]
  },
  {
   "cell_type": "markdown",
   "metadata": {},
   "source": [
    "Generate `word_topic_counts`: A W x K matrix having count that token w appears in topic k."
   ]
  },
  {
   "cell_type": "code",
   "execution_count": 220,
   "metadata": {},
   "outputs": [],
   "source": [
    "word_topic_counts = np.zeros((len(vocabulary.keys()), k))\n",
    "\n",
    "# for every word's topic assignment, find the token's vocabulary index\n",
    "# and increment `word_topic_counts[token_index, k]`\n",
    "for doc_index, document in enumerate(topic_assignments):\n",
    "    for word_document_index, word_topic_assignment in enumerate(document):\n",
    "        word_vocabulary_index = document_vocabulary_indices[doc_index][word_document_index]\n",
    "        word_topic_counts[word_vocabulary_index, word_topic_assignment] += 1"
   ]
  },
  {
   "cell_type": "code",
   "execution_count": 223,
   "metadata": {},
   "outputs": [
    {
     "data": {
      "text/plain": [
       "[0.94928108890864882,\n",
       " 0.95388177838349453,\n",
       " 0.95611225420436585,\n",
       " 0.95719499977061673,\n",
       " 0.95826723988781159,\n",
       " 0.95875602219687095,\n",
       " 0.95902547514859338,\n",
       " 0.95919885743300881,\n",
       " 0.95948200110887616,\n",
       " 0.95973040512642682]"
      ]
     },
     "execution_count": 223,
     "metadata": {},
     "output_type": "execute_result"
    }
   ],
   "source": [
    "# dumb sanity check: for every iteration, the average probability should be increasing\n",
    "iter_probs_averages = []\n",
    "\n",
    "for i in range(10):\n",
    "    iter_probs = []\n",
    "    for doc_index, d in enumerate(document_vocabulary_indices):\n",
    "        for word_document_index, word_vocab_index in enumerate(d):\n",
    "            current_topic_assignment = topic_assignments[doc_index][word_document_index]\n",
    "            document_topic_counts[doc_index, current_topic_assignment] -= 1\n",
    "            word_topic_counts[word_vocab_index, current_topic_assignment] -= 1\n",
    "            document_token_count = len(d) + k*alpha\n",
    "            # p(topic t | document d): proportion of words in document d that are assigned to topic t\n",
    "            b = (document_topic_counts[doc_index,])/document_token_count\n",
    "            # p(word w| topic t): proportion of assignments to topic t, over all documents d, that come from word w\n",
    "            topic_tokens_count = np.sum(word_topic_counts, 0)[current_topic_assignment]\n",
    "            a = (word_topic_counts[word_vocab_index,] + eta) / topic_tokens_count\n",
    "            p_z = b*a\n",
    "            new_probs = p_z/np.sum(p_z)\n",
    "            iter_probs.append(np.max(new_probs))\n",
    "            draws = np.random.multinomial(1, new_probs)\n",
    "            new_assignment = np.argwhere(draws==1)[0][0]\n",
    "            topic_assignments[doc_index][word_document_index] = new_assignment\n",
    "            document_topic_counts[doc_index, new_assignment] += 1\n",
    "            word_topic_counts[word_vocab_index, new_assignment] += 1\n",
    "    iter_probs_averages.append(np.average(iter_probs))\n",
    "\n",
    "iter_probs_averages"
   ]
  },
  {
   "cell_type": "code",
   "execution_count": 222,
   "metadata": {},
   "outputs": [
    {
     "name": "stdout",
     "output_type": "stream",
     "text": [
      "standard\n",
      "absolute\n",
      "meaning\n",
      "effects\n",
      "necessary\n",
      "heard\n",
      "levels\n",
      "universe\n",
      "including\n",
      "deal\n",
      "\n",
      "pain\n",
      "motto\n",
      "various\n",
      "versions\n",
      "water\n",
      "surface\n",
      "users\n",
      "choose\n",
      "treat\n",
      "bacteria\n",
      "\n",
      "edu\n",
      "writes\n",
      "people\n",
      "com\n",
      "don\n",
      "article\n",
      "think\n",
      "like\n",
      "know\n",
      "does\n",
      "\n",
      "edu\n",
      "graphics\n",
      "group\n",
      "help\n",
      "geb\n",
      "long\n",
      "version\n",
      "cause\n",
      "idea\n",
      "mail\n",
      "\n"
     ]
    }
   ],
   "source": [
    "inv_vocab = {v: k for k, v in vocabulary.items()}\n",
    "\n",
    "# number of times word appears in topic k / number of words in topic k\n",
    "number_of_words_in_topics = np.sum(word_topic_counts, 0)\n",
    "phi = np.divide(word_topic_counts, number_of_words_in_topics)\n",
    "\n",
    "# iterate through k topics and find words which have highest probability\n",
    "for i in range(k):\n",
    "    vocab_topic = np.argsort(-phi[:,i])[0:10]\n",
    "    for vocab_idx in vocab_topic:\n",
    "        print(inv_vocab[vocab_idx])\n",
    "    print('')"
   ]
  }
 ],
 "metadata": {
  "kernelspec": {
   "display_name": "Python 3",
   "language": "python",
   "name": "python3"
  },
  "language_info": {
   "codemirror_mode": {
    "name": "ipython",
    "version": 3
   },
   "file_extension": ".py",
   "mimetype": "text/x-python",
   "name": "python",
   "nbconvert_exporter": "python",
   "pygments_lexer": "ipython3",
   "version": "3.6.3"
  }
 },
 "nbformat": 4,
 "nbformat_minor": 2
}
